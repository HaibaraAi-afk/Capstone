{
  "nbformat": 4,
  "nbformat_minor": 0,
  "metadata": {
    "colab": {
      "provenance": [],
      "collapsed_sections": [
        "tY7CMFLXw-m9",
        "09xHQu3kE4EM",
        "7zNn0oW1u3Om"
      ],
      "gpuType": "T4",
      "include_colab_link": true
    },
    "kernelspec": {
      "name": "python3",
      "display_name": "Python 3"
    },
    "language_info": {
      "name": "python"
    },
    "accelerator": "GPU"
  },
  "cells": [
    {
      "cell_type": "markdown",
      "metadata": {
        "id": "view-in-github",
        "colab_type": "text"
      },
      "source": [
        "<a href=\"https://colab.research.google.com/github/HaibaraAi-afk/Capstone/blob/main/Modeling_KNeighbors_FinPockets_TF.ipynb\" target=\"_parent\"><img src=\"https://colab.research.google.com/assets/colab-badge.svg\" alt=\"Open In Colab\"/></a>"
      ]
    },
    {
      "cell_type": "code",
      "source": [
        "import pandas as pd\n",
        "import numpy as np\n",
        "import matplotlib.pyplot as plt\n",
        "import seaborn as sns\n",
        "from matplotlib.ticker import FuncFormatter\n",
        "import tensorflow as tf\n",
        "from sklearn.model_selection import train_test_split, cross_val_score, GridSearchCV,cross_validate\n",
        "from sklearn.model_selection import RandomizedSearchCV\n",
        "from sklearn.metrics import mean_absolute_error, mean_squared_error, r2_score\n",
        "from sklearn import metrics\n",
        "from sklearn.preprocessing import StandardScaler\n",
        "from sklearn.neighbors import KNeighborsRegressor"
      ],
      "metadata": {
        "id": "0HMz4x0Z4MpQ"
      },
      "execution_count": null,
      "outputs": []
    },
    {
      "cell_type": "code",
      "source": [
        "df = pd.read_csv('https://raw.githubusercontent.com/HaibaraAi-afk/Capstone/refs/heads/main/Dataset/converted_data.csv?token=GHSAT0AAAAAACX26274XJYSFK23IZKQHISYZZZN7FA')\n",
        "df"
      ],
      "metadata": {
        "id": "OSGxTfmKNrbd"
      },
      "execution_count": null,
      "outputs": []
    },
    {
      "cell_type": "markdown",
      "source": [
        "#Data Preprocessing"
      ],
      "metadata": {
        "id": "eggtf7qpLdCe"
      }
    },
    {
      "cell_type": "code",
      "source": [
        "df.head()"
      ],
      "metadata": {
        "id": "X_mnVATVOAw1"
      },
      "execution_count": null,
      "outputs": []
    },
    {
      "cell_type": "code",
      "source": [
        "df.isnull().sum()"
      ],
      "metadata": {
        "id": "Rr-NazcoQ1f8"
      },
      "execution_count": null,
      "outputs": []
    },
    {
      "cell_type": "code",
      "source": [
        "df.info()"
      ],
      "metadata": {
        "id": "PTCouBXrVj5T"
      },
      "execution_count": null,
      "outputs": []
    },
    {
      "cell_type": "code",
      "source": [
        "df = df.drop(columns=[\"Occupation\", \"City_Tier\",])"
      ],
      "metadata": {
        "id": "FXNoZOIoQ96l"
      },
      "execution_count": null,
      "outputs": []
    },
    {
      "cell_type": "code",
      "source": [
        "import matplotlib.pyplot as plt\n",
        "from matplotlib.ticker import FuncFormatter\n",
        "df['Dependents'] = df['Dependents'].astype(str)\n",
        "\n",
        "# Fungsi untuk mengubah format sumbu Y\n",
        "def format_func(value, tick_number):\n",
        "    return f'{value/1e7:.1f} Jt'  # Mengubah ke juta\n",
        "\n",
        "plt.figure(figsize=(10, 6))\n",
        "plt.scatter(df['Dependents'], df['Income'], color='blue', alpha=0.5)  # Menggunakan scatter plot\n",
        "plt.ylabel('Income (dalam juta)', fontsize=12)\n",
        "plt.xlabel('Jumlah Dependents', fontsize=12)\n",
        "plt.title('Income berdasarkan Jumlah Dependents', fontsize=14)\n",
        "\n",
        "# Mengatur format sumbu Y\n",
        "plt.gca().yaxis.set_major_formatter(FuncFormatter(format_func))\n",
        "\n",
        "# Mengatur batas sumbu X\n",
        "plt.xticks(df['Dependents'].unique())\n",
        "plt.grid(True)\n",
        "plt.tight_layout()\n",
        "plt.show()"
      ],
      "metadata": {
        "id": "V699nqqrRIjO"
      },
      "execution_count": null,
      "outputs": []
    },
    {
      "cell_type": "code",
      "source": [
        "# Feature Engineering\n",
        "df['Log_Income'] = np.log1p(df['Income'])  # Transformasi logaritmik\n",
        "df['Income_Age_Interaction'] = df['Income'] * df['Age']  # Fitur interaksi"
      ],
      "metadata": {
        "id": "jrBB08M01gIY"
      },
      "execution_count": null,
      "outputs": []
    },
    {
      "cell_type": "code",
      "source": [
        "print(df['Income'].min(), df['Income'].max())"
      ],
      "metadata": {
        "id": "6N5IL1Y4WbWb"
      },
      "execution_count": null,
      "outputs": []
    },
    {
      "cell_type": "code",
      "source": [
        "# Memilih fitur dan target\n",
        "X = df[['Income', 'Age', 'Dependents']]\n",
        "y = df[['Bills', 'Groceries', 'Transport', 'Entertainment', 'Healthcare', 'Education', 'Utilities', 'Disposable_Income']]"
      ],
      "metadata": {
        "id": "TkLXW2akvypt"
      },
      "execution_count": null,
      "outputs": []
    },
    {
      "cell_type": "code",
      "source": [
        "X_train, X_test, y_train, y_test = train_test_split(X, y, test_size=0.2, random_state=42)"
      ],
      "metadata": {
        "id": "3E5tb4xiwU09"
      },
      "execution_count": null,
      "outputs": []
    },
    {
      "cell_type": "code",
      "source": [
        "def cross_val(model):\n",
        "    # Menghitung skor cross-validation untuk model yang diberikan\n",
        "    pred = cross_val_score(model, X, y, cv=10)\n",
        "    return pred.mean()  # Mengembalikan rata-rata skor\n",
        "\n",
        "# Evaluasi Model\n",
        "def print_evaluate(y_true, y_pred, set_name):\n",
        "    mae = mean_absolute_error(y_true, y_pred)\n",
        "    mse = mean_squared_error(y_true, y_pred)\n",
        "    rmse = np.sqrt(mse)\n",
        "    r2 = r2_score(y_true, y_pred)\n",
        "    print(f\"{set_name} Evaluation:\")\n",
        "    print(f\"MAE: {mae:.2f}\")\n",
        "    print(f\"MSE: {mse:.2f}\")\n",
        "    print(f\"RMSE: {rmse:.2f}\")\n",
        "    print(f\"R²: {r2:.4f}\")\n",
        "    print(\"-\" * 30)\n",
        "\n",
        "\n",
        "\n",
        "def evaluate(true, predicted):\n",
        "    # Menghitung dan mengembalikan berbagai metrik evaluasi\n",
        "    mae = metrics.mean_absolute_error(true, predicted)\n",
        "    mse = metrics.mean_squared_error(true, predicted)\n",
        "    rmse = np.sqrt(mse)\n",
        "    r2_square = metrics.r2_score(true, predicted)\n",
        "    return mae, mse, rmse, r2_square"
      ],
      "metadata": {
        "id": "nb4H_KmS0bBF"
      },
      "execution_count": null,
      "outputs": []
    },
    {
      "cell_type": "code",
      "source": [
        "scaler = StandardScaler()\n",
        "X_train_scaled = scaler.fit_transform(X_train)\n",
        "X_test_scaled = scaler.transform(X_test)"
      ],
      "metadata": {
        "id": "DY2DicBG1YZc"
      },
      "execution_count": null,
      "outputs": []
    },
    {
      "cell_type": "code",
      "source": [
        "def add_model_results(results_df, model_name, y_true, y_pred, best_params, model):\n",
        "    \"\"\"\n",
        "    Menambahkan hasil evaluasi model ke dalam DataFrame.\n",
        "\n",
        "    Parameters:\n",
        "    - results_df: DataFrame yang ada untuk menyimpan hasil.\n",
        "    - model_name: Nama model yang digunakan.\n",
        "    - y_true: Nilai sebenarnya dari target.\n",
        "    - y_pred: Nilai prediksi dari model.\n",
        "    - best_params: Parameter terbaik dari model.\n",
        "    - model: Model yang digunakan untuk cross-validation.\n",
        "\n",
        "    Returns:\n",
        "    - DataFrame yang diperbarui dengan hasil baru.\n",
        "    \"\"\"\n",
        "    # Evaluasi model\n",
        "    mae, mse, rmse, r2_square = evaluate(y_true, y_pred)\n",
        "\n",
        "    # Cross-validation\n",
        "    cross_val_score = cross_val(model)  # Pastikan fungsi cross_val sudah didefinisikan\n",
        "\n",
        "    # Membuat DataFrame baru untuk hasil model\n",
        "    results_df_new = pd.DataFrame(data=[\n",
        "        [model_name,\n",
        "         mae, mse, rmse, r2_square,\n",
        "         best_params,\n",
        "         cross_val_score]\n",
        "    ],\n",
        "    columns=['Model', 'MAE', 'MSE', 'RMSE', 'R2 Square', 'Best Parameters', 'Cross_Val'])\n",
        "\n",
        "    # Menggabungkan DataFrame baru dengan DataFrame yang ada\n",
        "    results_df = pd.concat([results_df, results_df_new], ignore_index=True)\n",
        "\n",
        "    return results_df"
      ],
      "metadata": {
        "id": "wjb8clW6sNF1"
      },
      "execution_count": null,
      "outputs": []
    },
    {
      "cell_type": "markdown",
      "source": [
        "#EDA"
      ],
      "metadata": {
        "id": "tY7CMFLXw-m9"
      }
    },
    {
      "cell_type": "code",
      "source": [
        "plt.figure(figsize=(10, 6))\n",
        "plt.hist(df['Income'] / 1e7, bins=30, color='Blue', alpha=0.5)\n",
        "plt.xlabel('Income (dalam juta)', fontsize=12)\n",
        "plt.ylabel('Frekuensi', fontsize=12)\n",
        "plt.title('Distribusi Income', fontsize=14)\n",
        "plt.show()"
      ],
      "metadata": {
        "id": "K4UPl80ExANu"
      },
      "execution_count": null,
      "outputs": []
    },
    {
      "cell_type": "code",
      "source": [
        "plt.figure(figsize=(12,8))\n",
        "sns.heatmap(df.corr(), annot=True, fmt='.2f', cmap='coolwarm')\n",
        "plt.title('Korelasi Antar Fitur')\n",
        "plt.show()"
      ],
      "metadata": {
        "id": "fmSOiwG6xPE2"
      },
      "execution_count": null,
      "outputs": []
    },
    {
      "cell_type": "code",
      "source": [
        "# Visualisasi outlier menggunakan boxplot\n",
        "plt.figure(figsize=(12, 6))\n",
        "sns.boxplot(data=df[['Income', 'Bills', 'Groceries', 'Transport', 'Entertainment', 'Healthcare', 'Education', 'Utilities', 'Disposable_Income']])\n",
        "plt.xticks(rotation=45)\n",
        "plt.show()"
      ],
      "metadata": {
        "id": "rVQ8tpps5RNI"
      },
      "execution_count": null,
      "outputs": []
    },
    {
      "cell_type": "markdown",
      "source": [
        "#Modeling KNeighbors\n"
      ],
      "metadata": {
        "id": "48Wd9IcAxmm1"
      }
    },
    {
      "cell_type": "code",
      "source": [
        "# Mendefinisikan Parameter Grid\n",
        "param_grid = {\n",
        "    'n_neighbors': [3, 5, 7, 9],               # Jumlah tetangga\n",
        "    'weights': ['uniform', 'distance'],        # Metode pemberian bobot\n",
        "    'p': [1, 2]                                # Jenis jarak: 1 untuk Manhattan, 2 untuk Euclidean\n",
        "}\n",
        "\n",
        "# Inisialisasi model KNeighborsRegressor\n",
        "knn = KNeighborsRegressor()\n",
        "\n",
        "# Grid Search\n",
        "grid_search = GridSearchCV(\n",
        "    estimator=knn,\n",
        "    param_grid=param_grid,\n",
        "    cv=5,              # 5-fold cross-validation\n",
        "    n_jobs=-1,         # Gunakan semua core\n",
        "    scoring='accuracy' # Metode evaluasi\n",
        ")\n",
        "\n",
        "# Melatih model\n",
        "grid_search.fit(X_train_scaled, y_train)\n",
        "\n",
        "# Dapatkan Model Terbaik\n",
        "best_knn = grid_search.best_estimator_\n",
        "\n",
        "model = best_knn"
      ],
      "metadata": {
        "id": "7qULQUrv4hTr"
      },
      "execution_count": null,
      "outputs": []
    },
    {
      "cell_type": "code",
      "source": [
        "#Cetak Parameter Terbaik\n",
        "print(\"Best Parameters:\", grid_search.best_params_)"
      ],
      "metadata": {
        "id": "F2EkaacS5JU0"
      },
      "execution_count": null,
      "outputs": []
    },
    {
      "cell_type": "code",
      "source": [
        "train_pred = best_knn.predict(X_train_scaled)\n",
        "test_pred = best_knn.predict(X_test_scaled)"
      ],
      "metadata": {
        "id": "PQaifshI5O07"
      },
      "execution_count": null,
      "outputs": []
    },
    {
      "cell_type": "code",
      "source": [
        "#Evaluasi Model\n",
        "print('Test set evaluation:')\n",
        "print_evaluate(y_test, test_pred, set_name='Test Set')\n",
        "print('Train set evaluation:')\n",
        "print_evaluate(y_train, train_pred, set_name='Train Set')"
      ],
      "metadata": {
        "id": "oPWyfN_G5avk"
      },
      "execution_count": null,
      "outputs": []
    },
    {
      "cell_type": "code",
      "source": [
        "results_df = pd.DataFrame(data=[\n",
        "    [\"KNeighbors Regressor\",\n",
        "     *evaluate(y_test, test_pred),\n",
        "     grid_search.best_params_,\n",
        "     cross_val(model)]\n",
        "],\n",
        "columns=['Model', 'MAE', 'MSE', 'RMSE', 'R2 Square', 'Best Parameters', 'Cross_Val'])"
      ],
      "metadata": {
        "id": "Fgq3P1Jmcsuh"
      },
      "execution_count": null,
      "outputs": []
    },
    {
      "cell_type": "code",
      "source": [
        "results_df"
      ],
      "metadata": {
        "id": "hB2mbZY1qFd0"
      },
      "execution_count": null,
      "outputs": []
    },
    {
      "cell_type": "markdown",
      "source": [
        "#Testing"
      ],
      "metadata": {
        "id": "Sm_qgGAovgQS"
      }
    },
    {
      "cell_type": "code",
      "source": [
        "def test_model(model, scaler):\n",
        "   # Mengambil input dari pengguna\n",
        "    income = float(input(\"Masukkan Income: \"))\n",
        "    age = float(input(\"Masukkan Age: \"))\n",
        "    dependents = int(input(\"Masukkan Jumlah Dependents: \"))\n",
        "\n",
        "    # Membuat DataFrame dari input\n",
        "    input_data = pd.DataFrame([[income, age, dependents]], columns=['Income', 'Age', 'Dependents'])\n",
        "\n",
        "    # Menstandarisasi input\n",
        "    input_scaled = scaler.transform(input_data)\n",
        "\n",
        "    # Menghasilkan prediksi\n",
        "    prediction = model.predict(input_scaled)\n",
        "\n",
        "    return prediction"
      ],
      "metadata": {
        "id": "QxsvAle_vjBS"
      },
      "execution_count": null,
      "outputs": []
    },
    {
      "cell_type": "code",
      "source": [
        "# Menguji model dengan input dari pengguna\n",
        "predicted_output = test_model(best_knn, scaler)\n",
        "\n",
        "# Menampilkan hasil prediksi\n",
        "print(\"Hasil Prediksi:\")\n",
        "print(predicted_output)"
      ],
      "metadata": {
        "id": "lBO7sSpYv7nS"
      },
      "execution_count": null,
      "outputs": []
    },
    {
      "cell_type": "markdown",
      "source": [
        "#KNeighbors TF"
      ],
      "metadata": {
        "id": "nBmvsSJ9sk3U"
      }
    },
    {
      "cell_type": "code",
      "source": [
        "# Inisialisasi nama model\n",
        "model_name = \"kneighbors_tf_model\"  # Nama model dapat diubah sesuai kebutuhan\n",
        "export_path = f\"./{model_name}\"  # Direktori penyimpanan model\n"
      ],
      "metadata": {
        "id": "NLL-5917Cwuh"
      },
      "execution_count": null,
      "outputs": []
    },
    {
      "cell_type": "code",
      "source": [
        "# Step 1: Latih model KNeighborsRegressor\n",
        "knn = KNeighborsRegressor(n_neighbors=3, weights=\"uniform\", p=1)  # Contoh parameter\n",
        "knn.fit(X, y)\n",
        "\n",
        "# Step 2: KNeighborsRegressor untuk membuat prediksi\n",
        "y_pred_knn = knn.predict(X)\n",
        "\n",
        "# Step 3: Definisikan model TensorFlow\n",
        "tf_model = tf.keras.Sequential([\n",
        "    tf.keras.layers.Input(shape=(X.shape[1],)),  # Input shape sama dengan jumlah fitur\n",
        "    tf.keras.layers.Dense(128, activation=\"relu\"),\n",
        "    tf.keras.layers.Dense(64, activation=\"relu\"),\n",
        "    tf.keras.layers.Dense(y.shape[1])  # Output shape sama dengan jumlah target\n",
        "])\n",
        "\n",
        "# Compile model\n",
        "tf_model.compile(optimizer=\"adam\", loss=\"mse\", metrics=[\"mae\"])\n",
        "\n",
        "# Step 4: Latih model TensorFlow dengan input X dan target dari prediksi KNeighbors\n",
        "tf_model.fit(X, y_pred_knn, epochs=50, batch_size=32, verbose=1)\n"
      ],
      "metadata": {
        "id": "pPHq_eXWskmp"
      },
      "execution_count": null,
      "outputs": []
    },
    {
      "cell_type": "code",
      "source": [
        "import pandas as pd\n",
        "from sklearn.metrics import mean_absolute_error, mean_squared_error, r2_score\n",
        "import numpy as np\n",
        "\n",
        "def evaluate_model(model, X_train, X_test, y_train, y_test):\n",
        "    \"\"\"\n",
        "    Mengevaluasi model pada training set dan test set, lalu menyusun tabel evaluasi.\n",
        "\n",
        "    Parameters:\n",
        "    - model: Model yang akan dievaluasi.\n",
        "    - X_train, X_test: Fitur training dan testing.\n",
        "    - y_train, y_test: Target training dan testing.\n",
        "\n",
        "    Returns:\n",
        "    - DataFrame berisi metrik evaluasi.\n",
        "    \"\"\"\n",
        "    # Prediksi untuk training dan test set\n",
        "    y_train_pred = model.predict(X_train)\n",
        "    y_test_pred = model.predict(X_test)\n",
        "\n",
        "    # Hitung metrik untuk training set\n",
        "    train_mae = mean_absolute_error(y_train, y_train_pred)\n",
        "    train_mse = mean_squared_error(y_train, y_train_pred)\n",
        "    train_rmse = np.sqrt(train_mse)\n",
        "    train_r2 = r2_score(y_train, y_train_pred)\n",
        "\n",
        "    # Hitung metrik untuk test set\n",
        "    test_mae = mean_absolute_error(y_test, y_test_pred)\n",
        "    test_mse = mean_squared_error(y_test, y_test_pred)\n",
        "    test_rmse = np.sqrt(test_mse)\n",
        "    test_r2 = r2_score(y_test, y_test_pred)\n",
        "\n",
        "    # Susun hasil ke dalam DataFrame\n",
        "    eval_table = pd.DataFrame({\n",
        "        \"Dataset\": [\"Training\", \"Test\"],\n",
        "        \"MAE\": [train_mae, test_mae],\n",
        "        \"MSE\": [train_mse, test_mse],\n",
        "        \"RMSE\": [train_rmse, test_rmse],\n",
        "        \"R²\": [train_r2, test_r2]\n",
        "    })\n",
        "\n",
        "    return eval_table\n",
        "\n",
        "# Contoh penggunaan\n",
        "evaluation_table = evaluate_model(best_knn, X_train_scaled, X_test_scaled, y_train, y_test)\n",
        "print(evaluation_table)\n"
      ],
      "metadata": {
        "id": "S-cMudmKtwNf"
      },
      "execution_count": null,
      "outputs": []
    },
    {
      "cell_type": "markdown",
      "source": [
        "#Testing"
      ],
      "metadata": {
        "id": "FbZ7r9Q8HKeh"
      }
    },
    {
      "cell_type": "code",
      "source": [
        "# Fungsi untuk memprediksi berdasarkan input pengguna menggunakan KNeighbors\n",
        "def predict_user_input(income, age, dependents):\n",
        "    # Preprocess the input into a DataFrame\n",
        "    input_data = pd.DataFrame({\n",
        "        'Income': [income],\n",
        "        'Age': [age],\n",
        "        'Dependents': [dependents]\n",
        "    })\n",
        "\n",
        "    # Buat prediksi dengan KNeighbors\n",
        "    knn_prediction = knn.predict(input_data)\n",
        "\n",
        "    # Buat prediksi dengan model TensorFlow\n",
        "    tf_prediction = tf_model.predict(input_data)\n",
        "\n",
        "    return knn_prediction, tf_prediction\n"
      ],
      "metadata": {
        "id": "TfNYRSX2HMNO"
      },
      "execution_count": null,
      "outputs": []
    },
    {
      "cell_type": "code",
      "source": [
        "# Input dari pengguna\n",
        "income = float(input(\"Masukkan pendapatan: \"))\n",
        "age = int(input(\"Masukkan usia: \"))\n",
        "dependents = int(input(\"Masukkan jumlah tanggungan: \"))\n",
        "\n",
        "# Dapatkan prediksi\n",
        "knn_pred, tf_pred = predict_user_input(income, age, dependents)\n",
        "\n",
        "# Tampilkan hasil prediksi\n",
        "print(\"Prediksi dari model KNeighbors:\", knn_pred)\n",
        "print(\"Prediksi dari model TensorFlow:\", tf_pred)"
      ],
      "metadata": {
        "id": "K9_s7wnWH4G2"
      },
      "execution_count": null,
      "outputs": []
    },
    {
      "cell_type": "markdown",
      "source": [
        "#Deploy"
      ],
      "metadata": {
        "id": "wOGyZodToGW9"
      }
    },
    {
      "cell_type": "code",
      "source": [
        "# Save model in Keras native format\n",
        "model_name = \"tf_model_final.keras\"  # Use .keras extension\n",
        "export_path = f\"./{model_name}\"\n",
        "tf_model.save(export_path)\n",
        "print(f\"Model saved to: {export_path}\")\n",
        "\n",
        "# Convert to TensorFlow Lite\n",
        "converter = tf.lite.TFLiteConverter.from_keras_model(tf_model)\n",
        "tflite_model = converter.convert()\n",
        "\n",
        "# Save TFLite model\n",
        "tflite_path = \"tf_model.tflite\"\n",
        "with open(tflite_path, \"wb\") as f:\n",
        "    f.write(tflite_model)\n",
        "\n",
        "print(f\"TFLite model saved to: {tflite_path}\")"
      ],
      "metadata": {
        "id": "kb61ItgwoZ2d"
      },
      "execution_count": null,
      "outputs": []
    }
  ]
}